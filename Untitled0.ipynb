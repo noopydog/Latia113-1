{
  "nbformat": 4,
  "nbformat_minor": 0,
  "metadata": {
    "colab": {
      "provenance": []
    },
    "kernelspec": {
      "name": "python3",
      "display_name": "Python 3"
    },
    "language_info": {
      "name": "python"
    }
  },
  "cells": [
    {
      "cell_type": "code",
      "execution_count": null,
      "metadata": {
        "colab": {
          "base_uri": "https://localhost:8080/"
        },
        "id": "RBZb5-WkXGKf",
        "outputId": "b0586338-3713-4f6f-93fd-a6c5a3729df5"
      },
      "outputs": [
        {
          "output_type": "stream",
          "name": "stdout",
          "text": [
            "11\n",
            "['hello world', 'i am oxxo', ' how are you?']\n",
            "['hello', 'world,i', 'am', 'oxxo,', 'how', 'are', 'you?']\n",
            "['hello', 'world,i', 'am', 'oxxo,', 'how', 'are', 'you?']\n"
          ]
        }
      ],
      "source": [
        "a ='hello world'\n",
        "print(len(a))\n",
        "a ='hello world,i am oxxo, how are you?'\n",
        "b =a.split(',')\n",
        "c =a.split(' ')\n",
        "d =a.split()\n",
        "print(b)\n",
        "print(c)\n",
        "print(d)"
      ]
    },
    {
      "cell_type": "markdown",
      "source": [
        "剛開始建立字串基礎練習"
      ],
      "metadata": {
        "id": "TbgiQMMyu5xw"
      }
    },
    {
      "cell_type": "code",
      "source": [
        "t=('apple','banana','orange','grap')\n",
        "a,b,c,d=t\n",
        "print(a)\n",
        "print(b)\n",
        "print(c)\n",
        "print(d)"
      ],
      "metadata": {
        "colab": {
          "base_uri": "https://localhost:8080/"
        },
        "id": "dqka9luabjyW",
        "outputId": "09ed7e32-6202-4f34-fd5b-f392bcd54c0d"
      },
      "execution_count": null,
      "outputs": [
        {
          "output_type": "stream",
          "name": "stdout",
          "text": [
            "apple\n",
            "banana\n",
            "orange\n",
            "grap\n"
          ]
        }
      ]
    },
    {
      "cell_type": "markdown",
      "source": [
        "利用簡單的單字來練習串列"
      ],
      "metadata": {
        "id": "lpn26KWHu_BV"
      }
    },
    {
      "cell_type": "code",
      "source": [
        "print(t[0])\n",
        "print(t[1])\n",
        "print(t[2])\n",
        "print(t[3])"
      ],
      "metadata": {
        "colab": {
          "base_uri": "https://localhost:8080/"
        },
        "id": "LCc2R7BTeJ1T",
        "outputId": "3362ad91-336d-4d2d-a1bd-0aea7e4faec4"
      },
      "execution_count": null,
      "outputs": [
        {
          "output_type": "stream",
          "name": "stdout",
          "text": [
            "apple\n",
            "banana\n",
            "orange\n",
            "grap\n"
          ]
        }
      ]
    },
    {
      "cell_type": "markdown",
      "source": [
        "使用tuple的練習"
      ],
      "metadata": {
        "id": "-v9fkTHGvL4g"
      }
    },
    {
      "cell_type": "code",
      "source": [
        "t1=('apple','banana','orange')\n",
        "t2=('grap','pineapple')\n",
        "t=t1+t2\n",
        "print(t)\n"
      ],
      "metadata": {
        "colab": {
          "base_uri": "https://localhost:8080/"
        },
        "id": "Njr12Ip7XuTB",
        "outputId": "c18fab34-e788-4105-ee6f-e39bcc16a54c"
      },
      "execution_count": null,
      "outputs": [
        {
          "output_type": "stream",
          "name": "stdout",
          "text": [
            "('apple', 'banana', 'orange', 'grap', 'pineapple')\n"
          ]
        }
      ]
    },
    {
      "cell_type": "markdown",
      "source": [],
      "metadata": {
        "id": "EHAfp8PGvjs2"
      }
    },
    {
      "cell_type": "code",
      "source": [
        "a=dict(name='oxxo',age=18,eat=['apple','banana'])\n",
        "print(a)\n",
        "print(type(a))"
      ],
      "metadata": {
        "colab": {
          "base_uri": "https://localhost:8080/"
        },
        "id": "rSxvg5UVfAck",
        "outputId": "0d7479ac-7c6b-4de0-a5d9-4e988774e144"
      },
      "execution_count": null,
      "outputs": [
        {
          "output_type": "stream",
          "name": "stdout",
          "text": [
            "{'name': 'oxxo', 'age': 18, 'eat': ['apple', 'banana']}\n",
            "<class 'dict'>\n"
          ]
        }
      ]
    },
    {
      "cell_type": "code",
      "source": [
        "a=set()\n",
        "b=set([1,2,3,4,5,6,1,2,3,4,5])\n",
        "c=set({'x':1,'y':2,'z':3})\n",
        "d=set('hello')\n",
        "print(a)\n",
        "print(b)\n",
        "print(c)\n",
        "print(d)"
      ],
      "metadata": {
        "colab": {
          "base_uri": "https://localhost:8080/"
        },
        "id": "vo37OgQzf0nj",
        "outputId": "60133334-aeb9-4ee2-97a6-1aee537447c4"
      },
      "execution_count": null,
      "outputs": [
        {
          "output_type": "stream",
          "name": "stdout",
          "text": [
            "set()\n",
            "{1, 2, 3, 4, 5, 6}\n",
            "{'x', 'z', 'y'}\n",
            "{'o', 'h', 'e', 'l'}\n"
          ]
        }
      ]
    },
    {
      "cell_type": "markdown",
      "source": [
        "學習集合set"
      ],
      "metadata": {
        "id": "VczhZ2L0vvhW"
      }
    },
    {
      "cell_type": "code",
      "source": [
        "a=2\n",
        "b=3\n",
        "if a>b:\n",
        "    print('hello')\n",
        "print('ok')"
      ],
      "metadata": {
        "colab": {
          "base_uri": "https://localhost:8080/"
        },
        "id": "j8iGfMgdpRpK",
        "outputId": "6ee9b7a9-a81c-4700-f070-f7dae04b30ac"
      },
      "execution_count": 21,
      "outputs": [
        {
          "output_type": "stream",
          "name": "stdout",
          "text": [
            "ok\n"
          ]
        }
      ]
    },
    {
      "cell_type": "markdown",
      "source": [
        "邏輯判斷跟重複迴圈的 if 的字串練習"
      ],
      "metadata": {
        "id": "38Z03SZtv3vZ"
      }
    },
    {
      "cell_type": "code",
      "source": [
        "a=2\n",
        "b=3\n",
        "if a>b:\n",
        "    print('hello')\n",
        "else:\n",
        "    print('world')\n",
        "print('ok')"
      ],
      "metadata": {
        "colab": {
          "base_uri": "https://localhost:8080/"
        },
        "id": "GE616hHOp5lJ",
        "outputId": "a0134e25-db04-4866-cadd-8e440acd4e4d"
      },
      "execution_count": 22,
      "outputs": [
        {
          "output_type": "stream",
          "name": "stdout",
          "text": [
            "world\n",
            "ok\n"
          ]
        }
      ]
    },
    {
      "cell_type": "markdown",
      "source": [
        "if + else的對應的程式練習"
      ],
      "metadata": {
        "id": "SXCML-23wCSy"
      }
    },
    {
      "cell_type": "code",
      "source": [
        "a=2\n",
        "b=3\n",
        "if a<b:\n",
        "  print('a<b')\n",
        "  if a==1:\n",
        "    print('a=1')\n",
        "  elif a==2:\n",
        "    print('a=2')\n",
        "  elif a==3:\n",
        "    print('a=3')\n",
        "elif a>b:\n",
        "    print('a>b')\n",
        "else:\n",
        "    print('a=b')\n",
        "print('ok')"
      ],
      "metadata": {
        "colab": {
          "base_uri": "https://localhost:8080/"
        },
        "id": "0hmqdhlgqW_Q",
        "outputId": "fd9ff2ff-fef8-49d0-e3b3-44d9e5d1c159"
      },
      "execution_count": 25,
      "outputs": [
        {
          "output_type": "stream",
          "name": "stdout",
          "text": [
            "a<b\n",
            "a=2\n",
            "ok\n"
          ]
        }
      ]
    },
    {
      "cell_type": "markdown",
      "source": [
        "if elif else 的三者使用"
      ],
      "metadata": {
        "id": "pmI4QIECwQJi"
      }
    },
    {
      "cell_type": "code",
      "source": [
        "for i in 'abc':\n",
        "    print(i)"
      ],
      "metadata": {
        "colab": {
          "base_uri": "https://localhost:8080/"
        },
        "id": "hiYBNiJyryM_",
        "outputId": "7019af35-0dd3-4c2a-a939-e4038ac44558"
      },
      "execution_count": 26,
      "outputs": [
        {
          "output_type": "stream",
          "name": "stdout",
          "text": [
            "a\n",
            "b\n",
            "c\n"
          ]
        }
      ]
    },
    {
      "cell_type": "code",
      "source": [
        "for a in ['x','y','z']:\n",
        "  for b in [1,2,3]:\n",
        "        print(b)\n",
        "        print(a)"
      ],
      "metadata": {
        "colab": {
          "base_uri": "https://localhost:8080/"
        },
        "id": "WsQn_00BsCXY",
        "outputId": "89b3c018-1943-4c01-c820-ca8234893e0e"
      },
      "execution_count": 29,
      "outputs": [
        {
          "output_type": "stream",
          "name": "stdout",
          "text": [
            "1\n",
            "x\n",
            "2\n",
            "x\n",
            "3\n",
            "x\n",
            "1\n",
            "y\n",
            "2\n",
            "y\n",
            "3\n",
            "y\n",
            "1\n",
            "z\n",
            "2\n",
            "z\n",
            "3\n",
            "z\n"
          ]
        }
      ]
    },
    {
      "cell_type": "markdown",
      "source": [
        "重複迴圈的運用"
      ],
      "metadata": {
        "id": "guY_hHxLwgsO"
      }
    },
    {
      "cell_type": "code",
      "source": [
        "for a in ['x','y','z']:\n",
        "  for b in [1,2,3]:\n",
        "    print(f'{a}{b}')"
      ],
      "metadata": {
        "colab": {
          "base_uri": "https://localhost:8080/"
        },
        "id": "geSQEF9dscys",
        "outputId": "3b314ce0-5a46-486e-ef39-700347a371d2"
      },
      "execution_count": 28,
      "outputs": [
        {
          "output_type": "stream",
          "name": "stdout",
          "text": [
            "x1\n",
            "x2\n",
            "x3\n",
            "y1\n",
            "y2\n",
            "y3\n",
            "z1\n",
            "z2\n",
            "z3\n"
          ]
        }
      ]
    },
    {
      "cell_type": "code",
      "source": [
        "i=[]\n",
        "for t in range (10):\n",
        "  t+=1\n",
        "  i.append(t)\n",
        "i"
      ],
      "metadata": {
        "colab": {
          "base_uri": "https://localhost:8080/"
        },
        "id": "vkKGhw2Is-Ak",
        "outputId": "1d5ac954-338c-4d67-8338-bb129034c7ff"
      },
      "execution_count": 30,
      "outputs": [
        {
          "output_type": "execute_result",
          "data": {
            "text/plain": [
              "[1, 2, 3, 4, 5, 6, 7, 8, 9, 10]"
            ]
          },
          "metadata": {},
          "execution_count": 30
        }
      ]
    },
    {
      "cell_type": "markdown",
      "source": [],
      "metadata": {
        "id": "AJp9DE2KuyDM"
      }
    },
    {
      "cell_type": "code",
      "source": [
        "a=input('5:')\n",
        "print(a+1)\n",
        "print('hello')\n",
        "try:\n",
        "  a=input('5:')\n",
        "  print(a+1)\n",
        "except:\n",
        "  pass\n",
        "  print('hello')\n",
        "\n"
      ],
      "metadata": {
        "id": "7TtfyLIVtUSv"
      },
      "execution_count": null,
      "outputs": []
    },
    {
      "cell_type": "markdown",
      "source": [
        "例外處理的練習"
      ],
      "metadata": {
        "id": "l_Cxrrlqwp4s"
      }
    },
    {
      "cell_type": "markdown",
      "source": [],
      "metadata": {
        "id": "HiCwAJ_bunzN"
      }
    },
    {
      "cell_type": "code",
      "source": [
        "result=[expression for item in iterable]"
      ],
      "metadata": {
        "id": "zSM7SdvauBGQ"
      },
      "execution_count": null,
      "outputs": []
    }
  ]
}